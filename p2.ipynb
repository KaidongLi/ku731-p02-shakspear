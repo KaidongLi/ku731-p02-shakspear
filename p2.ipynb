{
 "cells": [
  {
   "cell_type": "code",
   "execution_count": 1,
   "metadata": {},
   "outputs": [],
   "source": [
    "import pandas as pd\n",
    "import numpy as np\n",
    "import matplotlib.pyplot as plt"
   ]
  },
  {
   "cell_type": "code",
   "execution_count": 5,
   "metadata": {},
   "outputs": [
    {
     "data": {
      "text/html": [
       "<div>\n",
       "<style scoped>\n",
       "    .dataframe tbody tr th:only-of-type {\n",
       "        vertical-align: middle;\n",
       "    }\n",
       "\n",
       "    .dataframe tbody tr th {\n",
       "        vertical-align: top;\n",
       "    }\n",
       "\n",
       "    .dataframe thead th {\n",
       "        text-align: right;\n",
       "    }\n",
       "</style>\n",
       "<table border=\"1\" class=\"dataframe\">\n",
       "  <thead>\n",
       "    <tr style=\"text-align: right;\">\n",
       "      <th></th>\n",
       "      <th>Dataline</th>\n",
       "      <th>Play</th>\n",
       "      <th>PlayerLinenumber</th>\n",
       "      <th>ActSceneLine</th>\n",
       "      <th>Player</th>\n",
       "      <th>PlayerLine</th>\n",
       "    </tr>\n",
       "  </thead>\n",
       "  <tbody>\n",
       "    <tr>\n",
       "      <th>0</th>\n",
       "      <td>1</td>\n",
       "      <td>Henry IV</td>\n",
       "      <td>NaN</td>\n",
       "      <td>NaN</td>\n",
       "      <td>NaN</td>\n",
       "      <td>ACT I</td>\n",
       "    </tr>\n",
       "    <tr>\n",
       "      <th>1</th>\n",
       "      <td>2</td>\n",
       "      <td>Henry IV</td>\n",
       "      <td>NaN</td>\n",
       "      <td>NaN</td>\n",
       "      <td>NaN</td>\n",
       "      <td>SCENE I. London. The palace.</td>\n",
       "    </tr>\n",
       "    <tr>\n",
       "      <th>2</th>\n",
       "      <td>3</td>\n",
       "      <td>Henry IV</td>\n",
       "      <td>NaN</td>\n",
       "      <td>NaN</td>\n",
       "      <td>NaN</td>\n",
       "      <td>Enter KING HENRY, LORD JOHN OF LANCASTER, the ...</td>\n",
       "    </tr>\n",
       "  </tbody>\n",
       "</table>\n",
       "</div>"
      ],
      "text/plain": [
       "   Dataline      Play  PlayerLinenumber ActSceneLine Player  \\\n",
       "0         1  Henry IV               NaN          NaN    NaN   \n",
       "1         2  Henry IV               NaN          NaN    NaN   \n",
       "2         3  Henry IV               NaN          NaN    NaN   \n",
       "\n",
       "                                          PlayerLine  \n",
       "0                                              ACT I  \n",
       "1                       SCENE I. London. The palace.  \n",
       "2  Enter KING HENRY, LORD JOHN OF LANCASTER, the ...  "
      ]
     },
     "execution_count": 5,
     "metadata": {},
     "output_type": "execute_result"
    }
   ],
   "source": [
    "data = pd.read_csv('data/shakespeare-plays/Shakespeare_data.csv')\n",
    "data[0:3]"
   ]
  },
  {
   "cell_type": "code",
   "execution_count": 34,
   "metadata": {},
   "outputs": [
    {
     "data": {
      "text/plain": [
       "0         2.500000\n",
       "1         5.600000\n",
       "2         6.000000\n",
       "3         4.222222\n",
       "4         4.666667\n",
       "5         6.571429\n",
       "6         5.571429\n",
       "7         5.125000\n",
       "8         5.555556\n",
       "9         6.000000\n",
       "10        5.625000\n",
       "11        6.166667\n",
       "12        5.625000\n",
       "13        5.125000\n",
       "14        5.428571\n",
       "15        5.833333\n",
       "16        7.000000\n",
       "17        4.444444\n",
       "18        8.200000\n",
       "19        5.500000\n",
       "20        6.125000\n",
       "21        4.625000\n",
       "22        6.285714\n",
       "23        5.428571\n",
       "24        5.375000\n",
       "25        5.750000\n",
       "26        5.250000\n",
       "27        6.000000\n",
       "28        6.285714\n",
       "29        5.428571\n",
       "            ...   \n",
       "111366    5.800000\n",
       "111367    5.250000\n",
       "111368    6.000000\n",
       "111369    6.833333\n",
       "111370    4.875000\n",
       "111371    5.000000\n",
       "111372    5.000000\n",
       "111373    4.400000\n",
       "111374    6.000000\n",
       "111375    5.375000\n",
       "111376    3.800000\n",
       "111377    5.444444\n",
       "111378    4.400000\n",
       "111379    4.600000\n",
       "111380    4.888889\n",
       "111381    5.000000\n",
       "111382    7.400000\n",
       "111383    4.900000\n",
       "111384    5.666667\n",
       "111385    4.600000\n",
       "111386    5.750000\n",
       "111387    4.875000\n",
       "111388    6.000000\n",
       "111389    5.750000\n",
       "111390    6.714286\n",
       "111391    5.250000\n",
       "111392    4.625000\n",
       "111393    5.111111\n",
       "111394    6.333333\n",
       "111395    6.000000\n",
       "Name: PlayerLine, Length: 111396, dtype: float64"
      ]
     },
     "execution_count": 34,
     "metadata": {},
     "output_type": "execute_result"
    }
   ],
   "source": [
    "actLines = data['PlayerLine']\n",
    "charPWord = actLines.str.len() #first hold total chars per line\n",
    "\n",
    "wordPLine = actLines.str.split()\n",
    "wordPLine = wordPLine.str.len()\n",
    "\n",
    "charPWord = charPWord / wordPLine\n",
    "charPWord\n",
    "#actLines\n",
    "#wordPLine\n",
    "#unit_change = data[2:]\n",
    "#unit_change.numdiff20162017 = pd.to_numeric(unit_change.numdiff20162017)\n",
    "#unit_change\n",
    "#data[100:200]"
   ]
  },
  {
   "cell_type": "code",
   "execution_count": null,
   "metadata": {},
   "outputs": [],
   "source": []
  }
 ],
 "metadata": {
  "kernelspec": {
   "display_name": "Python 2",
   "language": "python",
   "name": "python2"
  },
  "language_info": {
   "codemirror_mode": {
    "name": "ipython",
    "version": 2
   },
   "file_extension": ".py",
   "mimetype": "text/x-python",
   "name": "python",
   "nbconvert_exporter": "python",
   "pygments_lexer": "ipython2",
   "version": "2.7.15"
  }
 },
 "nbformat": 4,
 "nbformat_minor": 2
}
