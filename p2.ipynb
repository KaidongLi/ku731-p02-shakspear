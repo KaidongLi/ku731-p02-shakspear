{
 "cells": [
  {
   "cell_type": "code",
   "execution_count": 1,
   "metadata": {},
   "outputs": [],
   "source": [
    "import pandas as pd\n",
    "import numpy as np\n",
    "import matplotlib.pyplot as plt"
   ]
  },
  {
   "cell_type": "markdown",
   "metadata": {},
   "source": [
    "Drop all NaN data.\n",
    "Most of NaN data are not actuall lines. They are usually separations between acts/scenes"
   ]
  },
  {
   "cell_type": "code",
   "execution_count": 41,
   "metadata": {},
   "outputs": [
    {
     "data": {
      "text/html": [
       "<div>\n",
       "<style scoped>\n",
       "    .dataframe tbody tr th:only-of-type {\n",
       "        vertical-align: middle;\n",
       "    }\n",
       "\n",
       "    .dataframe tbody tr th {\n",
       "        vertical-align: top;\n",
       "    }\n",
       "\n",
       "    .dataframe thead th {\n",
       "        text-align: right;\n",
       "    }\n",
       "</style>\n",
       "<table border=\"1\" class=\"dataframe\">\n",
       "  <thead>\n",
       "    <tr style=\"text-align: right;\">\n",
       "      <th></th>\n",
       "      <th>Dataline</th>\n",
       "      <th>Play</th>\n",
       "      <th>PlayerLinenumber</th>\n",
       "      <th>ActSceneLine</th>\n",
       "      <th>Player</th>\n",
       "      <th>PlayerLine</th>\n",
       "    </tr>\n",
       "  </thead>\n",
       "  <tbody>\n",
       "    <tr>\n",
       "      <th>49670</th>\n",
       "      <td>49671</td>\n",
       "      <td>King Lear</td>\n",
       "      <td>28.0</td>\n",
       "      <td>1.4.58</td>\n",
       "      <td>KING LEAR</td>\n",
       "      <td>Ha! sayest thou so?</td>\n",
       "    </tr>\n",
       "    <tr>\n",
       "      <th>50613</th>\n",
       "      <td>50614</td>\n",
       "      <td>King Lear</td>\n",
       "      <td>55.0</td>\n",
       "      <td>2.4.195</td>\n",
       "      <td>KING LEAR</td>\n",
       "      <td>Wherein I thee endow'd.</td>\n",
       "    </tr>\n",
       "    <tr>\n",
       "      <th>85097</th>\n",
       "      <td>85098</td>\n",
       "      <td>Richard III</td>\n",
       "      <td>61.0</td>\n",
       "      <td>5.3.262</td>\n",
       "      <td>RICHMOND</td>\n",
       "      <td>The prayers of holy saints and wronged souls,</td>\n",
       "    </tr>\n",
       "  </tbody>\n",
       "</table>\n",
       "</div>"
      ],
      "text/plain": [
       "       Dataline         Play  PlayerLinenumber ActSceneLine     Player  \\\n",
       "49670     49671    King Lear              28.0       1.4.58  KING LEAR   \n",
       "50613     50614    King Lear              55.0      2.4.195  KING LEAR   \n",
       "85097     85098  Richard III              61.0      5.3.262   RICHMOND   \n",
       "\n",
       "                                          PlayerLine  \n",
       "49670                            Ha! sayest thou so?  \n",
       "50613                        Wherein I thee endow'd.  \n",
       "85097  The prayers of holy saints and wronged souls,  "
      ]
     },
     "execution_count": 41,
     "metadata": {},
     "output_type": "execute_result"
    }
   ],
   "source": [
    "data = pd.read_csv('data/shakespeare-plays/Shakespeare_data.csv')\n",
    "data = data.dropna()\n",
    "data.sample(3)"
   ]
  },
  {
   "cell_type": "markdown",
   "metadata": {},
   "source": [
    "# Data processing"
   ]
  },
  {
   "cell_type": "markdown",
   "metadata": {},
   "source": [
    " - Separate act/scene/line to make it easier for learning algorithm\n",
    " - Calculate how many words each line has. It in some way reflects if the player is a talktive person\n",
    " - Calculate how many letters each word has on average. This shows what type of word a person tends to use. Some people prefer shorter and easier words"
   ]
  },
  {
   "cell_type": "code",
   "execution_count": 42,
   "metadata": {},
   "outputs": [
    {
     "data": {
      "text/html": [
       "<div>\n",
       "<style scoped>\n",
       "    .dataframe tbody tr th:only-of-type {\n",
       "        vertical-align: middle;\n",
       "    }\n",
       "\n",
       "    .dataframe tbody tr th {\n",
       "        vertical-align: top;\n",
       "    }\n",
       "\n",
       "    .dataframe thead th {\n",
       "        text-align: right;\n",
       "    }\n",
       "</style>\n",
       "<table border=\"1\" class=\"dataframe\">\n",
       "  <thead>\n",
       "    <tr style=\"text-align: right;\">\n",
       "      <th></th>\n",
       "      <th>Player</th>\n",
       "      <th>Play</th>\n",
       "      <th>PlayerLineNumber</th>\n",
       "      <th>Act</th>\n",
       "      <th>Scene</th>\n",
       "      <th>Line</th>\n",
       "      <th>WordPerLine</th>\n",
       "      <th>CharPerWord</th>\n",
       "    </tr>\n",
       "  </thead>\n",
       "  <tbody>\n",
       "    <tr>\n",
       "      <th>77732</th>\n",
       "      <td>LYSIMACHUS</td>\n",
       "      <td>Pericles</td>\n",
       "      <td>10.0</td>\n",
       "      <td>4</td>\n",
       "      <td>6</td>\n",
       "      <td>22</td>\n",
       "      <td>7</td>\n",
       "      <td>5.857143</td>\n",
       "    </tr>\n",
       "    <tr>\n",
       "      <th>96273</th>\n",
       "      <td>TIMON</td>\n",
       "      <td>Timon of Athens</td>\n",
       "      <td>61.0</td>\n",
       "      <td>5</td>\n",
       "      <td>1</td>\n",
       "      <td>206</td>\n",
       "      <td>8</td>\n",
       "      <td>5.000000</td>\n",
       "    </tr>\n",
       "    <tr>\n",
       "      <th>73274</th>\n",
       "      <td>MONTANO</td>\n",
       "      <td>Othello</td>\n",
       "      <td>45.0</td>\n",
       "      <td>2</td>\n",
       "      <td>3</td>\n",
       "      <td>131</td>\n",
       "      <td>10</td>\n",
       "      <td>4.500000</td>\n",
       "    </tr>\n",
       "  </tbody>\n",
       "</table>\n",
       "</div>"
      ],
      "text/plain": [
       "           Player             Play  PlayerLineNumber Act Scene Line  \\\n",
       "77732  LYSIMACHUS         Pericles              10.0   4     6   22   \n",
       "96273       TIMON  Timon of Athens              61.0   5     1  206   \n",
       "73274     MONTANO          Othello              45.0   2     3  131   \n",
       "\n",
       "       WordPerLine  CharPerWord  \n",
       "77732            7     5.857143  \n",
       "96273            8     5.000000  \n",
       "73274           10     4.500000  "
      ]
     },
     "execution_count": 42,
     "metadata": {},
     "output_type": "execute_result"
    }
   ],
   "source": [
    "#get info from line\n",
    "actSceneLine = data['ActSceneLine']\n",
    "aslSplit = actSceneLine.str.split('.', expand=True)\n",
    "\n",
    "actLines = data['PlayerLine']\n",
    "charPWord = actLines.str.len() #first hold total chars per line\n",
    "\n",
    "wordPLine = actLines.str.split()\n",
    "wordPLine = wordPLine.str.len() #words per line\n",
    "\n",
    "charPWord = charPWord / wordPLine #characters per word\n",
    "\n",
    "data_pro = pd.DataFrame()\n",
    "data_pro['Player'] = data['Player']\n",
    "data_pro['Play'] = data['Play']\n",
    "data_pro['PlayerLineNumber'] = data['PlayerLinenumber']\n",
    "data_pro['Act'] = aslSplit[0]\n",
    "data_pro['Scene'] = aslSplit[1]\n",
    "data_pro['Line'] = aslSplit[2]\n",
    "data_pro['WordPerLine'] = wordPLine\n",
    "data_pro['CharPerWord'] = charPWord\n",
    "\n",
    "data_pro.sample(3)\n",
    "\n",
    "#data_pro\n",
    "#aslSplit\n",
    "#charPWord\n",
    "#actLines\n",
    "#wordPLine"
   ]
  },
  {
   "cell_type": "markdown",
   "metadata": {},
   "source": [
    "# Encode string columns to number"
   ]
  },
  {
   "cell_type": "code",
   "execution_count": 43,
   "metadata": {},
   "outputs": [
    {
     "data": {
      "text/html": [
       "<div>\n",
       "<style scoped>\n",
       "    .dataframe tbody tr th:only-of-type {\n",
       "        vertical-align: middle;\n",
       "    }\n",
       "\n",
       "    .dataframe tbody tr th {\n",
       "        vertical-align: top;\n",
       "    }\n",
       "\n",
       "    .dataframe thead th {\n",
       "        text-align: right;\n",
       "    }\n",
       "</style>\n",
       "<table border=\"1\" class=\"dataframe\">\n",
       "  <thead>\n",
       "    <tr style=\"text-align: right;\">\n",
       "      <th></th>\n",
       "      <th>Player</th>\n",
       "      <th>Play</th>\n",
       "      <th>PlayerLineNumber</th>\n",
       "      <th>Act</th>\n",
       "      <th>Scene</th>\n",
       "      <th>Line</th>\n",
       "      <th>WordPerLine</th>\n",
       "      <th>CharPerWord</th>\n",
       "    </tr>\n",
       "  </thead>\n",
       "  <tbody>\n",
       "    <tr>\n",
       "      <th>44695</th>\n",
       "      <td>136</td>\n",
       "      <td>16</td>\n",
       "      <td>53.0</td>\n",
       "      <td>3</td>\n",
       "      <td>1</td>\n",
       "      <td>287</td>\n",
       "      <td>9</td>\n",
       "      <td>4.777778</td>\n",
       "    </tr>\n",
       "    <tr>\n",
       "      <th>33150</th>\n",
       "      <td>395</td>\n",
       "      <td>8</td>\n",
       "      <td>21.0</td>\n",
       "      <td>1</td>\n",
       "      <td>4</td>\n",
       "      <td>88</td>\n",
       "      <td>4</td>\n",
       "      <td>5.000000</td>\n",
       "    </tr>\n",
       "    <tr>\n",
       "      <th>54770</th>\n",
       "      <td>412</td>\n",
       "      <td>18</td>\n",
       "      <td>56.0</td>\n",
       "      <td>5</td>\n",
       "      <td>1</td>\n",
       "      <td>155</td>\n",
       "      <td>4</td>\n",
       "      <td>4.750000</td>\n",
       "    </tr>\n",
       "  </tbody>\n",
       "</table>\n",
       "</div>"
      ],
      "text/plain": [
       "       Player  Play  PlayerLineNumber Act Scene Line  WordPerLine  CharPerWord\n",
       "44695     136    16              53.0   3     1  287            9     4.777778\n",
       "33150     395     8              21.0   1     4   88            4     5.000000\n",
       "54770     412    18              56.0   5     1  155            4     4.750000"
      ]
     },
     "execution_count": 43,
     "metadata": {},
     "output_type": "execute_result"
    }
   ],
   "source": [
    "# encoding from string to number\n",
    "from sklearn import preprocessing\n",
    "features = ['Player', 'Play']\n",
    "    \n",
    "for feature in features:\n",
    "    le = preprocessing.LabelEncoder()\n",
    "    le = le.fit(data_pro[feature])\n",
    "    data_pro[feature] = le.transform(data_pro[feature])\n",
    "\n",
    "data_pro.sample(3)"
   ]
  },
  {
   "cell_type": "markdown",
   "metadata": {},
   "source": [
    "Add infomation about previous line and next line"
   ]
  },
  {
   "cell_type": "code",
   "execution_count": 44,
   "metadata": {},
   "outputs": [
    {
     "data": {
      "text/html": [
       "<div>\n",
       "<style scoped>\n",
       "    .dataframe tbody tr th:only-of-type {\n",
       "        vertical-align: middle;\n",
       "    }\n",
       "\n",
       "    .dataframe tbody tr th {\n",
       "        vertical-align: top;\n",
       "    }\n",
       "\n",
       "    .dataframe thead th {\n",
       "        text-align: right;\n",
       "    }\n",
       "</style>\n",
       "<table border=\"1\" class=\"dataframe\">\n",
       "  <thead>\n",
       "    <tr style=\"text-align: right;\">\n",
       "      <th></th>\n",
       "      <th>Player</th>\n",
       "      <th>Play</th>\n",
       "      <th>PlayerLineNumber</th>\n",
       "      <th>Act</th>\n",
       "      <th>Scene</th>\n",
       "      <th>Line</th>\n",
       "      <th>WordPerLine</th>\n",
       "      <th>CharPerWord</th>\n",
       "      <th>PrePlayer</th>\n",
       "      <th>NextPlayer</th>\n",
       "    </tr>\n",
       "  </thead>\n",
       "  <tbody>\n",
       "    <tr>\n",
       "      <th>27396</th>\n",
       "      <td>805</td>\n",
       "      <td>6</td>\n",
       "      <td>51.0</td>\n",
       "      <td>4</td>\n",
       "      <td>5</td>\n",
       "      <td>164</td>\n",
       "      <td>4</td>\n",
       "      <td>4.250000</td>\n",
       "      <td>805.0</td>\n",
       "      <td>333.0</td>\n",
       "    </tr>\n",
       "    <tr>\n",
       "      <th>92993</th>\n",
       "      <td>364</td>\n",
       "      <td>29</td>\n",
       "      <td>12.0</td>\n",
       "      <td>3</td>\n",
       "      <td>3</td>\n",
       "      <td>36</td>\n",
       "      <td>9</td>\n",
       "      <td>5.333333</td>\n",
       "      <td>364.0</td>\n",
       "      <td>364.0</td>\n",
       "    </tr>\n",
       "    <tr>\n",
       "      <th>36597</th>\n",
       "      <td>395</td>\n",
       "      <td>8</td>\n",
       "      <td>134.0</td>\n",
       "      <td>5</td>\n",
       "      <td>2</td>\n",
       "      <td>351</td>\n",
       "      <td>8</td>\n",
       "      <td>5.250000</td>\n",
       "      <td>395.0</td>\n",
       "      <td>395.0</td>\n",
       "    </tr>\n",
       "  </tbody>\n",
       "</table>\n",
       "</div>"
      ],
      "text/plain": [
       "       Player  Play  PlayerLineNumber Act Scene Line  WordPerLine  \\\n",
       "27396     805     6              51.0   4     5  164            4   \n",
       "92993     364    29              12.0   3     3   36            9   \n",
       "36597     395     8             134.0   5     2  351            8   \n",
       "\n",
       "       CharPerWord  PrePlayer  NextPlayer  \n",
       "27396     4.250000      805.0       333.0  \n",
       "92993     5.333333      364.0       364.0  \n",
       "36597     5.250000      395.0       395.0  "
      ]
     },
     "execution_count": 44,
     "metadata": {},
     "output_type": "execute_result"
    }
   ],
   "source": [
    "count = 0;\n",
    "preIndex = 0;\n",
    "thisIndex = 0;\n",
    "for i, row in data_pro.iterrows():\n",
    "    if (count > 0):\n",
    "        if (count == 1):\n",
    "            data_pro.loc[thisIndex, 'PrePlayer'] = data_pro.loc[thisIndex, 'Player']\n",
    "            data_pro.loc[thisIndex, 'NextPlayer'] = data_pro.loc[i, 'Player']    \n",
    "        else:\n",
    "            data_pro.loc[thisIndex, 'PrePlayer'] = data_pro.loc[preIndex, 'Player']\n",
    "            data_pro.loc[thisIndex, 'NextPlayer'] = data_pro.loc[i, 'Player']   \n",
    "            if (i == 111394):\n",
    "                data_pro.loc[i, 'PrePlayer'] = data_pro.loc[thisIndex, 'Player']\n",
    "                data_pro.loc[i, 'NextPlayer'] = data_pro.loc[i, 'Player'] \n",
    "        \n",
    "    preIndex = thisIndex\n",
    "    thisIndex = i\n",
    "    count += 1\n",
    "data_pro.sample(3)"
   ]
  },
  {
   "cell_type": "markdown",
   "metadata": {},
   "source": [
    "# Visualization\n",
    "Plot bar chart for average Word per Line and Letter per Word"
   ]
  },
  {
   "cell_type": "code",
   "execution_count": 15,
   "metadata": {},
   "outputs": [
    {
     "data": {
      "text/plain": [
       "Text(0,0.5,'Words per Line')"
      ]
     },
     "execution_count": 15,
     "metadata": {},
     "output_type": "execute_result"
    },
    {
     "data": {
      "image/png": "[encoded data removed]",
      "text/plain": [
       "<Figure size 1080x720 with 1 Axes>"
      ]
     },
     "metadata": {},
     "output_type": "display_data"
    }
   ],
   "source": [
    "#visualization\n",
    "data_plot = data_pro.groupby('Player').mean()\n",
    "\n",
    "#data_sort = data_plot.sort_values('WordPerLine', ascending=True)\n",
    "\n",
    "plt_wpl = data_plot.sort_values('WordPerLine', ascending=True).plot(y='WordPerLine', kind='bar', figsize=(15, 10))\n",
    "plt_wpl.set_xlabel(\"Player\")\n",
    "plt_wpl.set_ylabel(\"Words per Line\")"
   ]
  },
  {
   "cell_type": "code",
   "execution_count": 16,
   "metadata": {
    "scrolled": true
   },
   "outputs": [
    {
     "data": {
      "text/plain": [
       "Text(0,0.5,'Letters Per Word')"
      ]
     },
     "execution_count": 16,
     "metadata": {},
     "output_type": "execute_result"
    },
    {
     "data": {
      "image/png": "[encoded data removed]",
      "text/plain": [
       "<Figure size 1080x720 with 1 Axes>"
      ]
     },
     "metadata": {},
     "output_type": "display_data"
    }
   ],
   "source": [
    "plt_wpl = data_plot.sort_values('CharPerWord', ascending=True).plot(y='CharPerWord', kind='bar', figsize=(15, 10))\n",
    "plt_wpl.set_xlabel(\"Player\")\n",
    "plt_wpl.set_ylabel(\"Letters Per Word\")"
   ]
  },
  {
   "cell_type": "markdown",
   "metadata": {},
   "source": [
    "From the result, we can see most players' words per line falls in the interval from 6 to 8. And most players' letters per word falls in 5 to 6. Both of the properties are not very good at tell which player each line belongs to."
   ]
  },
  {
   "cell_type": "code",
   "execution_count": 46,
   "metadata": {},
   "outputs": [],
   "source": [
    "from sklearn.model_selection import train_test_split\n",
    "\n",
    "data_x = data_pro.drop(['Player'], axis=1)\n",
    "data_y = data_pro['Player']\n",
    "\n",
    "perc_test = 0.20\n",
    "X_train, X_test, y_train, y_test = train_test_split(data_x, data_y, test_size=perc_test)\n",
    "\n",
    "#data_x\n",
    "#data_y\n",
    "#X_train\n",
    "#y_test"
   ]
  },
  {
   "cell_type": "code",
   "execution_count": 49,
   "metadata": {},
   "outputs": [
    {
     "name": "stderr",
     "output_type": "stream",
     "text": [
      "/home/kaidong/Softwares/anaconda2/lib/python2.7/site-packages/sklearn/model_selection/_split.py:605: Warning: The least populated class in y has only 1 members, which is too few. The minimum number of members in any class cannot be less than n_splits=3.\n",
      "  % (min_groups, self.n_splits)), Warning)\n"
     ]
    },
    {
     "data": {
      "text/plain": [
       "RandomForestClassifier(bootstrap=True, class_weight=None, criterion='entropy',\n",
       "            max_depth=10, max_features='auto', max_leaf_nodes=None,\n",
       "            min_impurity_decrease=0.0, min_impurity_split=None,\n",
       "            min_samples_leaf=1, min_samples_split=5,\n",
       "            min_weight_fraction_leaf=0.0, n_estimators=9, n_jobs=1,\n",
       "            oob_score=False, random_state=None, verbose=0,\n",
       "            warm_start=False)"
      ]
     },
     "execution_count": 49,
     "metadata": {},
     "output_type": "execute_result"
    }
   ],
   "source": [
    "from sklearn.ensemble import RandomForestClassifier\n",
    "from sklearn.metrics import make_scorer, accuracy_score\n",
    "from sklearn.model_selection import GridSearchCV\n",
    "\n",
    "clfr = RandomForestClassifier()\n",
    "\n",
    "parameters = {'n_estimators': [4, 6, 9], \n",
    "              'max_features': ['log2', 'sqrt','auto'], \n",
    "              'criterion': ['entropy', 'gini'],\n",
    "              'max_depth': [2, 3, 5, 10], \n",
    "              'min_samples_split': [2, 3, 5],\n",
    "              'min_samples_leaf': [1,5,8]\n",
    "             }\n",
    "\n",
    "acc_scorer = make_scorer(accuracy_score)\n",
    "\n",
    "grid_obj = GridSearchCV(clfr, parameters, scoring=acc_scorer)\n",
    "grid_obj = grid_obj.fit(X_train, y_train)\n",
    "\n",
    "clfr = grid_obj.best_estimator_\n",
    "\n",
    "clfr.fit(X_train, y_train)"
   ]
  },
  {
   "cell_type": "code",
   "execution_count": 50,
   "metadata": {},
   "outputs": [
    {
     "name": "stdout",
     "output_type": "stream",
     "text": [
      "0.6850839237316343\n"
     ]
    }
   ],
   "source": [
    "predictions = clfr.predict(X_test)\n",
    "print(accuracy_score(y_test, predictions))"
   ]
  },
  {
   "cell_type": "markdown",
   "metadata": {},
   "source": [
    "From the result, first the classifier was trained from the dataset with only addition of word per line and letter per word. The accuracy is 0.5077. After adding information about previous and next players, the accuracy is increased to 0.6851"
   ]
  },
  {
   "cell_type": "code",
   "execution_count": null,
   "metadata": {},
   "outputs": [],
   "source": []
  }
 ],
 "metadata": {
  "kernelspec": {
   "display_name": "Python 2",
   "language": "python",
   "name": "python2"
  },
  "language_info": {
   "codemirror_mode": {
    "name": "ipython",
    "version": 2
   },
   "file_extension": ".py",
   "mimetype": "text/x-python",
   "name": "python",
   "nbconvert_exporter": "python",
   "pygments_lexer": "ipython2",
   "version": "2.7.15"
  }
 },
 "nbformat": 4,
 "nbformat_minor": 2
}
